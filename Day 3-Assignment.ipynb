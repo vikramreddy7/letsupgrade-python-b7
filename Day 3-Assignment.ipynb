{
 "cells": [
  {
   "cell_type": "markdown",
   "metadata": {},
   "source": [
    "# Assignment-1"
   ]
  },
  {
   "cell_type": "code",
   "execution_count": 1,
   "metadata": {},
   "outputs": [
    {
     "name": "stdout",
     "output_type": "stream",
     "text": [
      "Safe To Land\n"
     ]
    }
   ],
   "source": [
    "a=1000\n",
    "b=5000\n",
    "c=6500\n",
    "\n",
    "if a >= 1000 :\n",
    "    print(\"Safe To Land\")\n",
    "elif b < 4500:\n",
    "    print(\"Bring Down To 1000ft\")       \n",
    "else: \n",
    "    c < 5000\n",
    "    print(\"Turn Arround\") "
   ]
  },
  {
   "cell_type": "code",
   "execution_count": 2,
   "metadata": {},
   "outputs": [
    {
     "name": "stdout",
     "output_type": "stream",
     "text": [
      "Bring Down To 1000ft\n"
     ]
    }
   ],
   "source": [
    "a=1000\n",
    "b=5000\n",
    "c=6500\n",
    "\n",
    "if a < 999:\n",
    "    print(\"Safe To Land\")\n",
    "elif b > 4500:\n",
    "    print(\"Bring Down To 1000ft\")       \n",
    "else: \n",
    "    c < 5000\n",
    "    print(\"Turn Arround\") "
   ]
  },
  {
   "cell_type": "code",
   "execution_count": 3,
   "metadata": {},
   "outputs": [
    {
     "name": "stdout",
     "output_type": "stream",
     "text": [
      "Turn Arround\n"
     ]
    }
   ],
   "source": [
    "a=1000\n",
    "b=4500\n",
    "c=6500\n",
    "\n",
    "if a < 999:\n",
    "    print(\"Safe To Land\")\n",
    "elif b > 5000:\n",
    "    print(\"Bring Down To 1000ft\")       \n",
    "else: \n",
    "    c > 5000\n",
    "    print(\"Turn Arround\") "
   ]
  },
  {
   "cell_type": "markdown",
   "metadata": {},
   "source": [
    "# Assignment-2"
   ]
  },
  {
   "cell_type": "code",
   "execution_count": 4,
   "metadata": {},
   "outputs": [
    {
     "name": "stdout",
     "output_type": "stream",
     "text": [
      "1\n",
      "2\n",
      "3\n",
      "5\n",
      "7\n",
      "11\n",
      "13\n",
      "17\n",
      "19\n",
      "23\n",
      "29\n",
      "31\n",
      "37\n",
      "41\n",
      "43\n",
      "47\n",
      "53\n",
      "59\n",
      "61\n",
      "67\n",
      "71\n",
      "73\n",
      "79\n",
      "83\n",
      "89\n",
      "97\n",
      "101\n",
      "103\n",
      "107\n",
      "109\n",
      "113\n",
      "127\n",
      "131\n",
      "137\n",
      "139\n",
      "149\n",
      "151\n",
      "157\n",
      "163\n",
      "167\n",
      "173\n",
      "179\n",
      "181\n",
      "191\n",
      "193\n",
      "197\n",
      "199\n"
     ]
    }
   ],
   "source": [
    "for i in range(1,200): \n",
    "    for j in range(2,i):\n",
    "        if i%j==0: break \n",
    "    else:\n",
    "        print (i)"
   ]
  },
  {
   "cell_type": "code",
   "execution_count": null,
   "metadata": {},
   "outputs": [],
   "source": []
  }
 ],
 "metadata": {
  "kernelspec": {
   "display_name": "Python 3",
   "language": "python",
   "name": "python3"
  },
  "language_info": {
   "codemirror_mode": {
    "name": "ipython",
    "version": 3
   },
   "file_extension": ".py",
   "mimetype": "text/x-python",
   "name": "python",
   "nbconvert_exporter": "python",
   "pygments_lexer": "ipython3",
   "version": "3.8.3"
  }
 },
 "nbformat": 4,
 "nbformat_minor": 4
}
